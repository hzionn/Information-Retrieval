{
  "cells": [
    {
      "cell_type": "markdown",
      "metadata": {
        "id": "02LWni9vxJFW"
      },
      "source": [
        "# Installation"
      ]
    },
    {
      "cell_type": "code",
      "execution_count": null,
      "metadata": {
        "colab": {
          "base_uri": "https://localhost:8080/"
        },
        "id": "SYDWR052wvBf",
        "outputId": "cfaff60c-bb6f-4715-a07d-437b22a806b7"
      },
      "outputs": [],
      "source": [
        "import pyterrier as pt\n",
        "#import ir_measures\n",
        "from pyterrier.measures import *\n",
        "import os\n",
        "\n",
        "if not pt.started():\n",
        "    pt.init()"
      ]
    },
    {
      "cell_type": "code",
      "execution_count": null,
      "metadata": {
        "id": "lIeJUWrxx4rj"
      },
      "outputs": [],
      "source": [
        "working_dir = \"./\""
      ]
    },
    {
      "cell_type": "markdown",
      "metadata": {
        "id": "ubWSStyPxxSd"
      },
      "source": [
        "# Indexing"
      ]
    },
    {
      "cell_type": "code",
      "execution_count": null,
      "metadata": {
        "id": "462dAdixw92_"
      },
      "outputs": [],
      "source": [
        "# list of filenames to index\n",
        "files = pt.io.find_files(working_dir + \"WT2G/\")\n",
        "\n",
        "# build the index\n",
        "indexer = pt.TRECCollectionIndexer(working_dir + \"wt2g_index\", verbose=True, blocks=False)\n",
        "if \"data.properties\" not in os.listdir(working_dir + \"wt2g_index\"):\n",
        "    indexref = indexer.index(files)\n",
        "\n",
        "    # load the index, print the statistics\n",
        "    index = pt.IndexFactory.of(indexref)\n",
        "else:\n",
        "    index = pt.IndexFactory.of(working_dir + \"wt2g_index/data.properties\")\n",
        "    \n",
        "print(index.getCollectionStatistics().toString())"
      ]
    },
    {
      "cell_type": "code",
      "execution_count": null,
      "metadata": {},
      "outputs": [],
      "source": [
        "'''\n",
        "# list of filenames to index\n",
        "files = pt.io.find_files(working_dir + \"WT2G/\")\n",
        "\n",
        "# build the index\n",
        "indexer = pt.TRECCollectionIndexer(working_dir + \"wt2g_index_withoutstemstop\", verbose=True, blocks=False, stemmer=None, stopwords=None)\n",
        "if \"data.properties\" not in os.listdir(working_dir + \"wt2g_index_withoutstemstop\"):\n",
        "    indexref = indexer.index(files)\n",
        "\n",
        "    # load the index, print the statistics\n",
        "    index = pt.IndexFactory.of(indexref)\n",
        "else:\n",
        "    index = pt.IndexFactory.of(working_dir + \"wt2g_index_withoutstemstop/data.properties\")\n",
        "    \n",
        "print(index.getCollectionStatistics().toString())\n",
        "'''\n"
      ]
    },
    {
      "cell_type": "markdown",
      "metadata": {
        "id": "twV3AHJ0zeK6"
      },
      "source": [
        "# Read Topics and Qrels"
      ]
    },
    {
      "cell_type": "code",
      "execution_count": null,
      "metadata": {
        "colab": {
          "base_uri": "https://localhost:8080/",
          "height": 539
        },
        "id": "DsXyfmLQzopE",
        "outputId": "705ad3fb-5a16-4e4e-f4f7-596ba2b246aa"
      },
      "outputs": [],
      "source": [
        "topics = pt.io.read_topics(working_dir + \"topics_401_450.txt\")\n",
        "\n",
        "#qrels = pt.io.read_qrels(working_dir + \"qrels.trec8.small_web\")\n",
        "qrels = pt.io.read_qrels(working_dir + \"qrels.trec8.small_web.gz\")"
      ]
    },
    {
      "cell_type": "markdown",
      "metadata": {
        "id": "Pj7a-IwIzyrP"
      },
      "source": [
        "# Retrieval Models"
      ]
    },
    {
      "cell_type": "code",
      "execution_count": null,
      "metadata": {
        "colab": {
          "base_uri": "https://localhost:8080/",
          "height": 35
        },
        "id": "pj8n1jFgz1JP",
        "outputId": "53971a62-ca29-43cd-98ba-f19c92a6b342"
      },
      "outputs": [],
      "source": [
        "tfidf = pt.BatchRetrieve(index, wmodel=\"TF_IDF\")\n",
        "tfidf_new = pt.BatchRetrieve(index, wmodel=\"TF_IDF\", controls={\"tf_idf.k_1\":2, \"tf_idf.b\":0.75})\n",
        "lemurtfidf = pt.BatchRetrieve(index, wmodel=\"LemurTF_IDF\")\n",
        "bm25 = pt.BatchRetrieve(index, controls={\"wmodel\": \"BM25\"})\n",
        "pl2 = pt.BatchRetrieve(index, controls={\"wmodel\": \"PL2\"})\n",
        "hiemstra = pt.BatchRetrieve(index, controls={\"wmodel\": \"Hiemstra_LM\"})\n",
        "dirichlet = pt.BatchRetrieve(index, controls={\"wmodel\": \"DirichletLM\"})"
      ]
    },
    {
      "cell_type": "code",
      "execution_count": null,
      "metadata": {},
      "outputs": [],
      "source": [
        "rerank_1 = (bm25 % 100) >> dirichlet"
      ]
    },
    {
      "cell_type": "markdown",
      "metadata": {
        "id": "x49gKUqt0AYV"
      },
      "source": [
        "# Retrieval"
      ]
    },
    {
      "cell_type": "code",
      "execution_count": null,
      "metadata": {
        "colab": {
          "base_uri": "https://localhost:8080/",
          "height": 183
        },
        "id": "-NaQPmDs0Xq3",
        "outputId": "6aad0426-4667-45e2-a07d-7841365cfc24"
      },
      "outputs": [],
      "source": [
        "res_tfidf = tfidf.transform(topics)\n",
        "res_tfidf_new = tfidf_new.transform(topics)\n",
        "res_lemurtfidf = lemurtfidf.transform(topics)\n",
        "res_bm25 = bm25.transform(topics)\n",
        "res_pl2 = pl2.transform(topics)\n",
        "res_hiemastra = hiemstra.transform(topics)\n",
        "res_dirichlet = dirichlet.transform(topics)\n",
        "res_rerank_1 = rerank_1.transform(topics)"
      ]
    },
    {
      "cell_type": "markdown",
      "metadata": {},
      "source": [
        "# Learning to Rank"
      ]
    },
    {
      "cell_type": "code",
      "execution_count": null,
      "metadata": {},
      "outputs": [],
      "source": [
        "from sklearn.ensemble import RandomForestRegressor\n",
        "\n",
        "pipeline = bm25 >> (tfidf ** pl2)\n",
        "rf = RandomForestRegressor(n_estimators=400)\n",
        "rf_pipe = pipeline >> pt.ltr.apply_learned_model(rf)\n",
        "rf_pipe.fit(topics, qrels)\n",
        "pt.Experiment(\n",
        "    [bm25, rf_pipe], \n",
        "    topics, \n",
        "    qrels, \n",
        "    [\"map\"], \n",
        "    names=[\"BM25 Baseline\", \"LTR\"]\n",
        "    )"
      ]
    },
    {
      "cell_type": "code",
      "execution_count": null,
      "metadata": {},
      "outputs": [],
      "source": [
        "import xgboost as xgb\n",
        "# this configures XGBoost as LambdaMART\n",
        "lmart_x = xgb.sklearn.XGBRanker(objective='rank:ndcg',\n",
        "      learning_rate=0.1,\n",
        "      gamma=1.0,\n",
        "      min_child_weight=0.1,\n",
        "      max_depth=10,\n",
        "      verbose=2,\n",
        "      random_state=42)\n",
        "\n",
        "lmart_x_pipe = pipeline >> pt.ltr.apply_learned_model(lmart_x, form=\"ltr\")\n",
        "lmart_x_pipe.fit(topics, qrels, topics, qrels)"
      ]
    },
    {
      "cell_type": "markdown",
      "metadata": {},
      "source": [
        "# Experiment Result"
      ]
    },
    {
      "cell_type": "code",
      "execution_count": null,
      "metadata": {},
      "outputs": [],
      "source": [
        "pt.Experiment(\n",
        "    [tfidf, tfidf_new, lemurtfidf],\n",
        "    topics,\n",
        "    qrels,\n",
        "    eval_metrics=[R@10, P@10, P@200, MAP, MAP@10, MAP@100, NDCG@100, Rprec]\n",
        "    )"
      ]
    },
    {
      "cell_type": "code",
      "execution_count": null,
      "metadata": {},
      "outputs": [],
      "source": [
        "pt.Experiment(\n",
        "    [bm25, pl2, hiemstra, dirichlet],\n",
        "    topics,\n",
        "    qrels,\n",
        "    eval_metrics=[R@10, P@10, P@200, MAP, MAP@10, MAP@100, NDCG@100, Rprec]\n",
        "    )"
      ]
    },
    {
      "cell_type": "code",
      "execution_count": null,
      "metadata": {},
      "outputs": [],
      "source": [
        "pt.Experiment(\n",
        "    [rerank_1, rf_pipe, lmart_x_pipe],\n",
        "    topics,\n",
        "    qrels,\n",
        "    eval_metrics=[R@10, P@10, P@200, MAP, MAP@10, MAP@100, NDCG@100, Rprec]\n",
        "    )"
      ]
    },
    {
      "cell_type": "code",
      "execution_count": null,
      "metadata": {},
      "outputs": [],
      "source": [
        "res = pt.Experiment(\n",
        "    [tfidf, tfidf_new, lemurtfidf, bm25, pl2, hiemstra, dirichlet, rerank_1, rf_pipe, lmart_x_pipe],\n",
        "    topics,\n",
        "    qrels,\n",
        "    eval_metrics=[R@10, P@10, P@200, MAP, MAP@10, MAP@100, NDCG@100, Rprec]\n",
        "    )"
      ]
    },
    {
      "cell_type": "code",
      "execution_count": null,
      "metadata": {},
      "outputs": [],
      "source": [
        "res"
      ]
    },
    {
      "cell_type": "code",
      "execution_count": null,
      "metadata": {},
      "outputs": [],
      "source": []
    }
  ],
  "metadata": {
    "colab": {
      "provenance": [],
      "toc_visible": true
    },
    "kernelspec": {
      "display_name": "Python 3.10.8 ('venv': venv)",
      "language": "python",
      "name": "python3"
    },
    "language_info": {
      "codemirror_mode": {
        "name": "ipython",
        "version": 3
      },
      "file_extension": ".py",
      "mimetype": "text/x-python",
      "name": "python",
      "nbconvert_exporter": "python",
      "pygments_lexer": "ipython3",
      "version": "3.10.8"
    },
    "vscode": {
      "interpreter": {
        "hash": "24d2ab99ccf85b8ac5f7145b4532ba5d501e827b75fb530eb8613a353f0c3edb"
      }
    }
  },
  "nbformat": 4,
  "nbformat_minor": 0
}
